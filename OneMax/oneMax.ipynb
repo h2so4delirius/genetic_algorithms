{
 "cells": [
  {
   "cell_type": "code",
   "execution_count": 4,
   "id": "6a3bff88",
   "metadata": {},
   "outputs": [],
   "source": [
    "from deap import creator, base, tools\n",
    "import random \n",
    "import matplotlib.pyplot as plt"
   ]
  },
  {
   "cell_type": "code",
   "execution_count": 72,
   "id": "ffd1be27",
   "metadata": {},
   "outputs": [],
   "source": [
    "ONE_MAX_LENGTH = 100\n",
    "POPULATION_SIZE = 200\n",
    "P_CROSSOVER = 0.9\n",
    "P_MUTATION = 0.1\n",
    "MAX_GENERATIONS = 70\n",
    "RANDOM_SEED = 42"
   ]
  },
  {
   "cell_type": "code",
   "execution_count": 17,
   "id": "b1d6347f",
   "metadata": {},
   "outputs": [
    {
     "name": "stdout",
     "output_type": "stream",
     "text": [
      "1\n"
     ]
    }
   ],
   "source": [
    "print(random.randrange(RANDOM_SEED))"
   ]
  },
  {
   "cell_type": "code",
   "execution_count": 19,
   "id": "aa450924",
   "metadata": {},
   "outputs": [],
   "source": [
    "toolbox = base.Toolbox()\n",
    "toolbox.register(\"ZeroOrOne\", random.randint, 0, 1)"
   ]
  },
  {
   "cell_type": "code",
   "execution_count": 21,
   "id": "1287626e",
   "metadata": {},
   "outputs": [],
   "source": [
    "creator.create(\"FitnessMax\", base.Fitness, weights=(1.0,))"
   ]
  },
  {
   "cell_type": "code",
   "execution_count": 23,
   "id": "775f7b6d",
   "metadata": {},
   "outputs": [],
   "source": [
    "creator.create(\"individual\", list, fitness=creator.FitnessMax)"
   ]
  },
  {
   "cell_type": "code",
   "execution_count": 24,
   "id": "39e9aaf2",
   "metadata": {},
   "outputs": [],
   "source": [
    "toolbox.register(\"individualCreator\", tools.initRepeat, creator.individual, toolbox.ZeroOrOne, ONE_MAX_LEIGHT)"
   ]
  },
  {
   "cell_type": "code",
   "execution_count": 25,
   "id": "01c6c3d4",
   "metadata": {},
   "outputs": [],
   "source": [
    "toolbox.register(\"populationCreator\", tools.initRepeat,\n",
    "list, toolbox.individualCreator)"
   ]
  },
  {
   "cell_type": "code",
   "execution_count": 26,
   "id": "ff5e3794",
   "metadata": {},
   "outputs": [],
   "source": [
    "def oneMaxFitness(individual):\n",
    "    return sum(individual),"
   ]
  },
  {
   "cell_type": "code",
   "execution_count": 27,
   "id": "6235f6f8",
   "metadata": {},
   "outputs": [],
   "source": [
    "toolbox.register(\"evaluate\", oneMaxFitness)"
   ]
  },
  {
   "cell_type": "code",
   "execution_count": 30,
   "id": "181940de",
   "metadata": {},
   "outputs": [],
   "source": [
    "toolbox.register(\"select\", tools.selTournament, tournsize=3)\n",
    "toolbox.register(\"mate\", tools.cxOnePoint)\n",
    "toolbox.register(\"mutate\", tools.mutFlipBit, indpb=1.0/ONE_MAX_LENGTH)"
   ]
  },
  {
   "cell_type": "code",
   "execution_count": 76,
   "id": "92735c88",
   "metadata": {},
   "outputs": [],
   "source": [
    "population = toolbox.populationCreator(n=POPULATION_SIZE)\n",
    "generationCounter = 0"
   ]
  },
  {
   "cell_type": "code",
   "execution_count": 77,
   "id": "8ed41eb7",
   "metadata": {},
   "outputs": [
    {
     "name": "stdout",
     "output_type": "stream",
     "text": [
      "[1, 1, 1, 0, 1, 0, 1, 1, 1, 1, 1, 0, 1, 1, 0, 0, 0, 1, 1, 1, 0, 1, 1, 0, 0, 1, 0, 0, 0, 0, 1, 0, 1, 0, 0, 1, 0, 0, 1, 0, 0, 0, 1, 1, 1, 0, 1, 1, 0, 1, 1, 1, 1, 0, 1, 0, 1, 0, 0, 0, 1, 0, 0, 1, 1, 0, 1, 0, 0, 1, 1, 1, 1, 0, 0, 1, 0, 0, 1, 0, 0, 0, 0, 1, 1, 1, 1, 0, 0, 1, 0, 1, 0, 0, 1, 1, 0, 1, 0, 0] \n",
      "size of population 100\n"
     ]
    }
   ],
   "source": [
    "print(population[0], '\\nsize of population', len(population[0]))"
   ]
  },
  {
   "cell_type": "code",
   "execution_count": 78,
   "id": "baaaea37",
   "metadata": {},
   "outputs": [
    {
     "data": {
      "text/plain": [
       "[(51,), (51,), (53,), (45,), (46,), (53,), (55,), (52,), (48,), (52,)]"
      ]
     },
     "execution_count": 78,
     "metadata": {},
     "output_type": "execute_result"
    }
   ],
   "source": [
    "fitnessValues = list(map(toolbox.evaluate, population))\n",
    "fitnessValues[:10]"
   ]
  },
  {
   "cell_type": "code",
   "execution_count": 79,
   "id": "2985f0e4",
   "metadata": {},
   "outputs": [],
   "source": [
    "for individual, fitnessValue in zip(population, fitnessValues):\n",
    " individual.fitness.values = fitnessValue"
   ]
  },
  {
   "cell_type": "code",
   "execution_count": 80,
   "id": "99b6bf32",
   "metadata": {},
   "outputs": [
    {
     "data": {
      "text/plain": [
       "[51.0, 51.0, 53.0, 45.0, 46.0, 53.0, 55.0, 52.0, 48.0, 52.0]"
      ]
     },
     "execution_count": 80,
     "metadata": {},
     "output_type": "execute_result"
    }
   ],
   "source": [
    "fitnessValues = [individual.fitness.values[0] for individual in population]\n",
    "fitnessValues[:10]"
   ]
  },
  {
   "cell_type": "code",
   "execution_count": 81,
   "id": "1d2b240e",
   "metadata": {},
   "outputs": [],
   "source": [
    "maxFitnessValues = []\n",
    "meanFitnessValues = []"
   ]
  },
  {
   "cell_type": "code",
   "execution_count": 82,
   "id": "7a2d4109",
   "metadata": {},
   "outputs": [
    {
     "name": "stdout",
     "output_type": "stream",
     "text": [
      "- Поколение 1: Макс приспособ. = 63.0, Средняя приспособ. = 53.655\n",
      "- Поколение 2: Макс приспособ. = 65.0, Средняя приспособ. = 57.01\n",
      "- Поколение 3: Макс приспособ. = 72.0, Средняя приспособ. = 59.86\n",
      "- Поколение 4: Макс приспособ. = 70.0, Средняя приспособ. = 62.48\n",
      "- Поколение 5: Макс приспособ. = 74.0, Средняя приспособ. = 64.875\n",
      "- Поколение 6: Макс приспособ. = 75.0, Средняя приспособ. = 67.21\n",
      "- Поколение 7: Макс приспособ. = 77.0, Средняя приспособ. = 69.71\n",
      "- Поколение 8: Макс приспособ. = 77.0, Средняя приспособ. = 72.025\n",
      "- Поколение 9: Макс приспособ. = 81.0, Средняя приспособ. = 73.8\n",
      "- Поколение 10: Макс приспособ. = 83.0, Средняя приспособ. = 75.73\n",
      "- Поколение 11: Макс приспособ. = 85.0, Средняя приспособ. = 77.335\n",
      "- Поколение 12: Макс приспособ. = 86.0, Средняя приспособ. = 78.87\n",
      "- Поколение 13: Макс приспособ. = 86.0, Средняя приспособ. = 80.445\n",
      "- Поколение 14: Макс приспособ. = 88.0, Средняя приспособ. = 81.975\n",
      "- Поколение 15: Макс приспособ. = 88.0, Средняя приспособ. = 83.61\n",
      "- Поколение 16: Макс приспособ. = 89.0, Средняя приспособ. = 84.9\n",
      "- Поколение 17: Макс приспособ. = 89.0, Средняя приспособ. = 86.12\n",
      "- Поколение 18: Макс приспособ. = 89.0, Средняя приспособ. = 86.86\n",
      "- Поколение 19: Макс приспособ. = 91.0, Средняя приспособ. = 87.72\n",
      "- Поколение 20: Макс приспособ. = 92.0, Средняя приспособ. = 88.655\n",
      "- Поколение 21: Макс приспособ. = 92.0, Средняя приспособ. = 89.54\n",
      "- Поколение 22: Макс приспособ. = 93.0, Средняя приспособ. = 90.305\n",
      "- Поколение 23: Макс приспособ. = 93.0, Средняя приспособ. = 90.97\n",
      "- Поколение 24: Макс приспособ. = 93.0, Средняя приспособ. = 91.5\n",
      "- Поколение 25: Макс приспособ. = 94.0, Средняя приспособ. = 92.11\n",
      "- Поколение 26: Макс приспособ. = 94.0, Средняя приспособ. = 92.425\n",
      "- Поколение 27: Макс приспособ. = 94.0, Средняя приспособ. = 92.86\n",
      "- Поколение 28: Макс приспособ. = 95.0, Средняя приспособ. = 93.235\n",
      "- Поколение 29: Макс приспособ. = 95.0, Средняя приспособ. = 93.68\n",
      "- Поколение 30: Макс приспособ. = 96.0, Средняя приспособ. = 93.985\n",
      "- Поколение 31: Макс приспособ. = 96.0, Средняя приспособ. = 94.32\n",
      "- Поколение 32: Макс приспособ. = 97.0, Средняя приспособ. = 94.7\n",
      "- Поколение 33: Макс приспособ. = 97.0, Средняя приспособ. = 95.115\n",
      "- Поколение 34: Макс приспособ. = 97.0, Средняя приспособ. = 95.52\n",
      "- Поколение 35: Макс приспособ. = 97.0, Средняя приспособ. = 95.94\n",
      "- Поколение 36: Макс приспособ. = 97.0, Средняя приспособ. = 96.035\n",
      "- Поколение 37: Макс приспособ. = 97.0, Средняя приспособ. = 96.24\n",
      "- Поколение 38: Макс приспособ. = 98.0, Средняя приспособ. = 96.55\n",
      "- Поколение 39: Макс приспособ. = 98.0, Средняя приспособ. = 96.815\n",
      "- Поколение 40: Макс приспособ. = 98.0, Средняя приспособ. = 96.985\n",
      "- Поколение 41: Макс приспособ. = 99.0, Средняя приспособ. = 97.135\n",
      "- Поколение 42: Макс приспособ. = 99.0, Средняя приспособ. = 97.465\n",
      "- Поколение 43: Макс приспособ. = 99.0, Средняя приспособ. = 97.825\n",
      "- Поколение 44: Макс приспособ. = 99.0, Средняя приспособ. = 98.085\n",
      "- Поколение 45: Макс приспособ. = 100.0, Средняя приспособ. = 98.47\n"
     ]
    }
   ],
   "source": [
    "while max(fitnessValues) < ONE_MAX_LENGTH and generationCounter< MAX_GENERATIONS:\n",
    "    generationCounter = generationCounter + 1\n",
    "    offspring = toolbox.select(population, len(population))\n",
    "    offspring = list(map(toolbox.clone, offspring))\n",
    "    for child1, child2 in zip(offspring[::2], offspring[1::2]):\n",
    "         if random.random() < P_CROSSOVER:\n",
    "             toolbox.mate(child1, child2)\n",
    "             del child1.fitness.values\n",
    "             del child2.fitness.values\n",
    "    for mutant in offspring:\n",
    "         if random.random() < P_MUTATION:\n",
    "             toolbox.mutate(mutant)\n",
    "             del mutant.fitness.values\n",
    "    freshIndividuals = [ind for ind in offspring if not ind.fitness.valid]\n",
    "    freshFitnessValues = list(map(toolbox.evaluate, freshIndividuals))\n",
    "    for individual, fitnessValue in zip(freshIndividuals, freshFitnessValues):\n",
    "         individual.fitness.values = fitnessValue\n",
    "    population[:] = offspring\n",
    "    fitnessValues = [ind.fitness.values[0] for ind in population]\n",
    "    maxFitness = max(fitnessValues)\n",
    "    meanFitness = sum(fitnessValues) / len(population)\n",
    "    maxFitnessValues.append(maxFitness)\n",
    "    meanFitnessValues.append(meanFitness)\n",
    "    print(\"- Поколение {}: Макс приспособ. = {}, Средняя приспособ. = {}\"\n",
    "     .format(generationCounter, maxFitness, meanFitness))"
   ]
  },
  {
   "cell_type": "code",
   "execution_count": null,
   "id": "4810b605",
   "metadata": {},
   "outputs": [],
   "source": []
  },
  {
   "cell_type": "code",
   "execution_count": null,
   "id": "6f1506fa",
   "metadata": {},
   "outputs": [],
   "source": []
  }
 ],
 "metadata": {
  "kernelspec": {
   "display_name": "Python 3",
   "language": "python",
   "name": "python3"
  },
  "language_info": {
   "codemirror_mode": {
    "name": "ipython",
    "version": 3
   },
   "file_extension": ".py",
   "mimetype": "text/x-python",
   "name": "python",
   "nbconvert_exporter": "python",
   "pygments_lexer": "ipython3",
   "version": "3.8.5"
  }
 },
 "nbformat": 4,
 "nbformat_minor": 5
}
